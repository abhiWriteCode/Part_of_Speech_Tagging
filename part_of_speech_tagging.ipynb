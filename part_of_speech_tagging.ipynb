{
  "nbformat": 4,
  "nbformat_minor": 0,
  "metadata": {
    "colab": {
      "name": "part_of_speech_tagging.ipynb",
      "version": "0.3.2",
      "provenance": [],
      "collapsed_sections": []
    },
    "kernelspec": {
      "name": "python3",
      "display_name": "Python 3"
    },
    "accelerator": "GPU"
  },
  "cells": [
    {
      "cell_type": "markdown",
      "metadata": {
        "id": "YGzsaHCU6UBH",
        "colab_type": "text"
      },
      "source": [
        "# LSTM for Part-of-Speech Tagging\n",
        "\n",
        "Part of speech tagging is the process of determining the category of a word from the words in its surrounding context."
      ]
    },
    {
      "cell_type": "code",
      "metadata": {
        "id": "phEJJpNs6OKk",
        "colab_type": "code",
        "colab": {}
      },
      "source": [
        "# import resources\n",
        "import numpy as np\n",
        "import matplotlib.pyplot as plt\n",
        "\n",
        "\n",
        "import torch\n",
        "import torch.nn as nn\n",
        "import torch.nn.functional as F\n",
        "import torch.optim as optim\n",
        "\n",
        "%matplotlib inline"
      ],
      "execution_count": 0,
      "outputs": []
    },
    {
      "cell_type": "code",
      "metadata": {
        "id": "5urUx6Z86k3p",
        "colab_type": "code",
        "colab": {}
      },
      "source": [
        "# training sentences and their corresponding word-tags\n",
        "training_data = [\n",
        "    (\"The cat ate the cheese\".lower().split(), [\"DET\", \"NN\", \"V\", \"DET\", \"NN\"]),\n",
        "    (\"She read that book\".lower().split(), [\"NN\", \"V\", \"DET\", \"NN\"]),\n",
        "    (\"The dog loves art\".lower().split(), [\"DET\", \"NN\", \"V\", \"NN\"]),\n",
        "    (\"The elephant answers the phone\".lower().split(), [\"DET\", \"NN\", \"V\", \"DET\", \"NN\"])\n",
        "]\n",
        "\n",
        "# create a dictionary that maps words to indices\n",
        "word2idx = {}\n",
        "for sent, tags in training_data:\n",
        "    for word in sent:\n",
        "        if word not in word2idx:\n",
        "            word2idx[word] = len(word2idx)\n",
        "\n",
        "# create a dictionary that maps tags to indices\n",
        "tag2idx = {\"DET\": 0, \"NN\": 1, \"V\": 2}"
      ],
      "execution_count": 0,
      "outputs": []
    },
    {
      "cell_type": "code",
      "metadata": {
        "id": "06gjfEdD6t3W",
        "colab_type": "code",
        "colab": {
          "base_uri": "https://localhost:8080/",
          "height": 53
        },
        "outputId": "f751bf18-e2d2-494b-88b1-6593e213db88"
      },
      "source": [
        "# print out the created dictionary\n",
        "print(word2idx)"
      ],
      "execution_count": 3,
      "outputs": [
        {
          "output_type": "stream",
          "text": [
            "{'the': 0, 'cat': 1, 'ate': 2, 'cheese': 3, 'she': 4, 'read': 5, 'that': 6, 'book': 7, 'dog': 8, 'loves': 9, 'art': 10, 'elephant': 11, 'answers': 12, 'phone': 13}\n"
          ],
          "name": "stdout"
        }
      ]
    },
    {
      "cell_type": "code",
      "metadata": {
        "id": "GoCnnIjk6yO1",
        "colab_type": "code",
        "colab": {}
      },
      "source": [
        "# a helper function for converting a sequence of words to a Tensor of numerical values\n",
        "# will be used later in training\n",
        "def prepare_sequence(seq, to_idx):\n",
        "    '''This function takes in a sequence of words and returns a \n",
        "    corresponding Tensor of numerical values (indices for each word).'''\n",
        "    idxs = [to_idx[w] for w in seq]\n",
        "    idxs = np.array(idxs)\n",
        "    return torch.from_numpy(idxs)"
      ],
      "execution_count": 0,
      "outputs": []
    },
    {
      "cell_type": "code",
      "metadata": {
        "id": "UXsxfdtY615I",
        "colab_type": "code",
        "colab": {
          "base_uri": "https://localhost:8080/",
          "height": 33
        },
        "outputId": "6ea7d55e-86f7-43dc-d625-699439c6e6ef"
      },
      "source": [
        "# check out what prepare_sequence does for one of our training sentences:\n",
        "example_input = prepare_sequence(\"The dog answers the phone\".lower().split(), word2idx)\n",
        "print(example_input)"
      ],
      "execution_count": 5,
      "outputs": [
        {
          "output_type": "stream",
          "text": [
            "tensor([ 0,  8, 12,  0, 13])\n"
          ],
          "name": "stdout"
        }
      ]
    },
    {
      "cell_type": "markdown",
      "metadata": {
        "id": "OL65MSZ37KJd",
        "colab_type": "text"
      },
      "source": [
        "\n",
        "# Creating the Model\n",
        "\n",
        "Our model will assume a few things:\n",
        "\n",
        "1) Our input is broken down into a sequence of words, so a sentence will be [w1, w2, ...]\n",
        "\n",
        "2) These words come from a larger list of words that we already know (a vocabulary)\n",
        "\n",
        "3) We have a limited set of tags, [NN, V, DET], which mean: a noun, a verb, and a determinant (words like \"the\" or \"that\"), respectively\n",
        "\n",
        "4) We want to predict* a tag for each input word"
      ]
    },
    {
      "cell_type": "code",
      "metadata": {
        "id": "KsmKa1bY6_sf",
        "colab_type": "code",
        "colab": {}
      },
      "source": [
        "class LSTMTagger(nn.Module):\n",
        "\n",
        "    def __init__(self, embedding_dim, hidden_dim, vocab_size, tagset_size):\n",
        "        ''' Initialize the layers of this model.'''\n",
        "        super().__init__()\n",
        "        \n",
        "        self.hidden_dim = hidden_dim\n",
        "\n",
        "        # embedding layer that turns words into a vector of a specified size\n",
        "        self.word_embeddings = nn.Embedding(vocab_size, embedding_dim)\n",
        "\n",
        "        # the LSTM takes embedded word vectors (of a specified size) as inputs \n",
        "        # and outputs hidden states of size hidden_dim\n",
        "        self.lstm = nn.LSTM(embedding_dim, hidden_dim)\n",
        "\n",
        "        # the linear layer that maps the hidden state output dimension \n",
        "        # to the number of tags we want as output, tagset_size (in this case this is 3 tags)\n",
        "        self.hidden2tag = nn.Linear(hidden_dim, tagset_size)\n",
        "        \n",
        "        # initialize the hidden state (see code below)\n",
        "        self.hidden = self.init_hidden()\n",
        "        \n",
        "\n",
        "    def forward(self, sentence):\n",
        "        ''' Define the feedforward behavior of the model.'''\n",
        "        # create embedded word vectors for each word in a sentence\n",
        "        embeds = self.word_embeddings(sentence)\n",
        "        \n",
        "        # get the output and hidden state by passing the lstm over our word embeddings\n",
        "        # the lstm takes in our embeddings and hiddent state\n",
        "        lstm_out, self.hidden = self.lstm(\n",
        "            embeds.view(len(sentence), 1, -1), self.hidden)\n",
        "        \n",
        "        # get the scores for the most likely tag for a word\n",
        "        tag_outputs = self.hidden2tag(lstm_out.view(len(sentence), -1))\n",
        "        tag_scores = F.log_softmax(tag_outputs, dim=1)\n",
        "        \n",
        "        return tag_scores\n",
        "    \n",
        "        \n",
        "    def init_hidden(self):\n",
        "        ''' At the start of training, we need to initialize a hidden state;\n",
        "           there will be none because the hidden state is formed based on perviously seen data.\n",
        "           So, this function defines a hidden state with all zeroes and of a specified size.'''\n",
        "        # The axes dimensions are (n_layers, batch_size, hidden_dim)\n",
        "        return (torch.zeros(1, 1, self.hidden_dim),\n",
        "                torch.zeros(1, 1, self.hidden_dim))"
      ],
      "execution_count": 0,
      "outputs": []
    },
    {
      "cell_type": "code",
      "metadata": {
        "id": "gEHBFDj371lE",
        "colab_type": "code",
        "colab": {}
      },
      "source": [
        "# the embedding dimension defines the size of our word vectors\n",
        "# for our simple vocabulary and training set, we will keep these small\n",
        "EMBEDDING_DIM = 6\n",
        "HIDDEN_DIM = 6\n",
        "\n",
        "# instantiate our model\n",
        "model = LSTMTagger(EMBEDDING_DIM, HIDDEN_DIM, len(word2idx), len(tag2idx))\n",
        "\n",
        "# define our loss and optimizer\n",
        "loss_function = nn.NLLLoss()\n",
        "optimizer = optim.SGD(model.parameters(), lr=0.1)"
      ],
      "execution_count": 0,
      "outputs": []
    },
    {
      "cell_type": "code",
      "metadata": {
        "id": "9lI6Kzoe7_pj",
        "colab_type": "code",
        "colab": {
          "base_uri": "https://localhost:8080/",
          "height": 167
        },
        "outputId": "3a05201c-0b23-4e7f-d50b-65b0b6311313"
      },
      "source": [
        "test_sentence = \"The cheese loves the elephant\".lower().split()\n",
        "\n",
        "# see what the scores are before training\n",
        "# element [i,j] of the output is the *score* for tag j for word i.\n",
        "# to check the initial accuracy of our model, we don't need to train, so we use model.eval()\n",
        "inputs = prepare_sequence(test_sentence, word2idx)\n",
        "inputs = inputs\n",
        "tag_scores = model(inputs)\n",
        "print(tag_scores)\n",
        "\n",
        "# tag_scores outputs a vector of tag scores for each word in an inpit sentence\n",
        "# to get the most likely tag index, we grab the index with the maximum score!\n",
        "# recall that these numbers correspond to tag2idx = {\"DET\": 0, \"NN\": 1, \"V\": 2}\n",
        "_, predicted_tags = torch.max(tag_scores, dim=1)\n",
        "print('\\n')\n",
        "print('Predicted tags: \\n',predicted_tags)"
      ],
      "execution_count": 8,
      "outputs": [
        {
          "output_type": "stream",
          "text": [
            "tensor([[-1.0367, -1.1647, -1.0985],\n",
            "        [-0.9858, -1.1973, -1.1244],\n",
            "        [-0.9504, -1.2361, -1.1304],\n",
            "        [-0.9981, -1.2010, -1.1070],\n",
            "        [-0.9858, -1.2183, -1.1052]], grad_fn=<LogSoftmaxBackward>)\n",
            "\n",
            "\n",
            "Predicted tags: \n",
            " tensor([0, 0, 0, 0, 0])\n"
          ],
          "name": "stdout"
        }
      ]
    },
    {
      "cell_type": "markdown",
      "metadata": {
        "id": "PE2zX7gu8p8W",
        "colab_type": "text"
      },
      "source": [
        "### Training"
      ]
    },
    {
      "cell_type": "code",
      "metadata": {
        "id": "OHjQG9fA8Msm",
        "colab_type": "code",
        "colab": {
          "base_uri": "https://localhost:8080/",
          "height": 268
        },
        "outputId": "9aa0baea-ea6c-4cd7-c96d-485528984032"
      },
      "source": [
        "# normally these epochs take a lot longer \n",
        "# but with our toy data (only 3 sentences), we can do many epochs in a short time\n",
        "n_epochs = 300\n",
        "\n",
        "for epoch in range(n_epochs):\n",
        "    \n",
        "    epoch_loss = 0.0\n",
        "    \n",
        "    # get all sentences and corresponding tags in the training data\n",
        "    for sentence, tags in training_data:\n",
        "        \n",
        "        # zero the gradients\n",
        "        model.zero_grad()\n",
        "\n",
        "        # zero the hidden state of the LSTM, this detaches it from its history\n",
        "        model.hidden = model.init_hidden()\n",
        "\n",
        "        # prepare the inputs for processing by out network, \n",
        "        # turn all sentences and targets into Tensors of numerical indices\n",
        "        sentence_in = prepare_sequence(sentence, word2idx)\n",
        "        targets = prepare_sequence(tags, tag2idx)\n",
        "\n",
        "        # forward pass to get tag scores\n",
        "        tag_scores = model(sentence_in)\n",
        "\n",
        "        # compute the loss, and gradients \n",
        "        loss = loss_function(tag_scores, targets)\n",
        "        epoch_loss += loss.item()\n",
        "        loss.backward()\n",
        "        \n",
        "        # update the model parameters with optimizer.step()\n",
        "        optimizer.step()\n",
        "        \n",
        "    # print out avg loss per 20 epochs\n",
        "    if(epoch%20 == 19):\n",
        "        print(\"Epoch: %d, loss: %1.5f\" % (epoch+1, epoch_loss/len(training_data)))"
      ],
      "execution_count": 10,
      "outputs": [
        {
          "output_type": "stream",
          "text": [
            "Epoch: 20, loss: 1.00628\n",
            "Epoch: 40, loss: 0.86267\n",
            "Epoch: 60, loss: 0.72348\n",
            "Epoch: 80, loss: 0.62535\n",
            "Epoch: 100, loss: 0.51864\n",
            "Epoch: 120, loss: 0.38322\n",
            "Epoch: 140, loss: 0.25533\n",
            "Epoch: 160, loss: 0.16832\n",
            "Epoch: 180, loss: 0.11739\n",
            "Epoch: 200, loss: 0.08687\n",
            "Epoch: 220, loss: 0.06719\n",
            "Epoch: 240, loss: 0.05372\n",
            "Epoch: 260, loss: 0.04409\n",
            "Epoch: 280, loss: 0.03697\n",
            "Epoch: 300, loss: 0.03155\n"
          ],
          "name": "stdout"
        }
      ]
    },
    {
      "cell_type": "markdown",
      "metadata": {
        "id": "hxVnKtfU8tMZ",
        "colab_type": "text"
      },
      "source": [
        "### Testing"
      ]
    },
    {
      "cell_type": "code",
      "metadata": {
        "id": "lJDdeH0Y8kWX",
        "colab_type": "code",
        "colab": {
          "base_uri": "https://localhost:8080/",
          "height": 167
        },
        "outputId": "935786e0-e202-413d-fa09-05c991f28265"
      },
      "source": [
        "test_sentence = \"The cheese loves the elephant\".lower().split()\n",
        "\n",
        "# see what the scores are after training\n",
        "inputs = prepare_sequence(test_sentence, word2idx)\n",
        "inputs = inputs\n",
        "tag_scores = model(inputs)\n",
        "print(tag_scores)\n",
        "\n",
        "# print the most likely tag index, by grabbing the index with the maximum score!\n",
        "# recall that these numbers correspond to tag2idx = {\"DET\": 0, \"NN\": 1, \"V\": 2}\n",
        "_, predicted_tags = torch.max(tag_scores, 1)\n",
        "print('\\n')\n",
        "print('Predicted tags: \\n',predicted_tags)"
      ],
      "execution_count": 11,
      "outputs": [
        {
          "output_type": "stream",
          "text": [
            "tensor([[-4.6954e-03, -6.4736e+00, -5.7633e+00],\n",
            "        [-5.6140e+00, -1.8361e-02, -4.2304e+00],\n",
            "        [-3.9510e+00, -1.5175e+00, -2.7247e-01],\n",
            "        [-1.3834e-02, -5.0707e+00, -4.8980e+00],\n",
            "        [-5.0825e+00, -1.5152e-02, -4.7292e+00]], grad_fn=<LogSoftmaxBackward>)\n",
            "\n",
            "\n",
            "Predicted tags: \n",
            " tensor([0, 1, 2, 0, 1])\n"
          ],
          "name": "stdout"
        }
      ]
    },
    {
      "cell_type": "code",
      "metadata": {
        "id": "CTbOSAyG8y7I",
        "colab_type": "code",
        "colab": {}
      },
      "source": [
        ""
      ],
      "execution_count": 0,
      "outputs": []
    }
  ]
}